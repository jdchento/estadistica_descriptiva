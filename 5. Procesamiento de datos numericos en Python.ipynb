{
 "cells": [
  {
   "cell_type": "markdown",
   "metadata": {
    "cell_id": "00000-3ae783b8-e68c-4e50-8584-76d9afd6d731",
    "deepnote_cell_type": "markdown",
    "tags": []
   },
   "source": [
    "# Escalamiento de datos numéricos"
   ]
  },
  {
   "cell_type": "markdown",
   "metadata": {
    "cell_id": "00001-1fa33800-9e78-4de9-9f32-8a55be925f26",
    "deepnote_cell_type": "markdown",
    "tags": []
   },
   "source": [
    "### Transformaciones lineales"
   ]
  },
  {
   "cell_type": "code",
   "execution_count": 4,
   "metadata": {},
   "outputs": [
    {
     "name": "stdout",
     "output_type": "stream",
     "text": [
      "Collecting scikit-learnNote: you may need to restart the kernel to use updated packages.\n",
      "\n",
      "  Downloading scikit_learn-1.3.2-cp311-cp311-win_amd64.whl.metadata (11 kB)\n",
      "Requirement already satisfied: numpy<2.0,>=1.17.3 in c:\\users\\jcifuentes\\appdata\\local\\packages\\pythonsoftwarefoundation.python.3.11_qbz5n2kfra8p0\\localcache\\local-packages\\python311\\site-packages (from scikit-learn) (1.26.1)\n",
      "Collecting scipy>=1.5.0 (from scikit-learn)\n",
      "  Downloading scipy-1.11.4-cp311-cp311-win_amd64.whl.metadata (60 kB)\n",
      "     ---------------------------------------- 0.0/60.4 kB ? eta -:--:--\n",
      "     ------ --------------------------------- 10.2/60.4 kB ? eta -:--:--\n",
      "     ---------------------------------------- 60.4/60.4 kB 1.6 MB/s eta 0:00:00\n",
      "Collecting joblib>=1.1.1 (from scikit-learn)\n",
      "  Downloading joblib-1.3.2-py3-none-any.whl.metadata (5.4 kB)\n",
      "Collecting threadpoolctl>=2.0.0 (from scikit-learn)\n",
      "  Downloading threadpoolctl-3.2.0-py3-none-any.whl.metadata (10.0 kB)\n",
      "Downloading scikit_learn-1.3.2-cp311-cp311-win_amd64.whl (9.2 MB)\n",
      "   ---------------------------------------- 0.0/9.2 MB ? eta -:--:--\n",
      "   - -------------------------------------- 0.3/9.2 MB 7.9 MB/s eta 0:00:02\n",
      "   -- ------------------------------------- 0.5/9.2 MB 8.4 MB/s eta 0:00:02\n",
      "   --- ------------------------------------ 0.8/9.2 MB 7.6 MB/s eta 0:00:02\n",
      "   ----- ---------------------------------- 1.3/9.2 MB 8.5 MB/s eta 0:00:01\n",
      "   ------ --------------------------------- 1.5/9.2 MB 7.3 MB/s eta 0:00:02\n",
      "   -------- ------------------------------- 1.9/9.2 MB 7.5 MB/s eta 0:00:01\n",
      "   --------- ------------------------------ 2.1/9.2 MB 7.1 MB/s eta 0:00:01\n",
      "   ----------- ---------------------------- 2.7/9.2 MB 7.7 MB/s eta 0:00:01\n",
      "   ------------ --------------------------- 2.9/9.2 MB 7.5 MB/s eta 0:00:01\n",
      "   -------------- ------------------------- 3.4/9.2 MB 7.8 MB/s eta 0:00:01\n",
      "   -------------- ------------------------- 3.4/9.2 MB 7.8 MB/s eta 0:00:01\n",
      "   ---------------- ----------------------- 3.8/9.2 MB 7.1 MB/s eta 0:00:01\n",
      "   ----------------- ---------------------- 4.1/9.2 MB 7.1 MB/s eta 0:00:01\n",
      "   ------------------- -------------------- 4.5/9.2 MB 7.2 MB/s eta 0:00:01\n",
      "   --------------------- ------------------ 4.9/9.2 MB 7.2 MB/s eta 0:00:01\n",
      "   ----------------------- ---------------- 5.3/9.2 MB 7.4 MB/s eta 0:00:01\n",
      "   ------------------------ --------------- 5.7/9.2 MB 7.4 MB/s eta 0:00:01\n",
      "   -------------------------- ------------- 6.0/9.2 MB 7.4 MB/s eta 0:00:01\n",
      "   --------------------------- ------------ 6.4/9.2 MB 7.4 MB/s eta 0:00:01\n",
      "   ----------------------------- ---------- 6.7/9.2 MB 7.4 MB/s eta 0:00:01\n",
      "   ------------------------------- -------- 7.3/9.2 MB 7.6 MB/s eta 0:00:01\n",
      "   -------------------------------- ------- 7.5/9.2 MB 7.5 MB/s eta 0:00:01\n",
      "   ---------------------------------- ----- 8.0/9.2 MB 7.6 MB/s eta 0:00:01\n",
      "   ------------------------------------ --- 8.4/9.2 MB 7.6 MB/s eta 0:00:01\n",
      "   ------------------------------------- -- 8.6/9.2 MB 7.5 MB/s eta 0:00:01\n",
      "   -------------------------------------- - 8.9/9.2 MB 7.5 MB/s eta 0:00:01\n",
      "   ---------------------------------------  9.2/9.2 MB 7.5 MB/s eta 0:00:01\n",
      "   ---------------------------------------- 9.2/9.2 MB 7.3 MB/s eta 0:00:00\n",
      "Downloading joblib-1.3.2-py3-none-any.whl (302 kB)\n",
      "   ---------------------------------------- 0.0/302.2 kB ? eta -:--:--\n",
      "   ---------------------------------------- 302.2/302.2 kB 6.2 MB/s eta 0:00:00\n",
      "Downloading scipy-1.11.4-cp311-cp311-win_amd64.whl (44.1 MB)\n",
      "   ---------------------------------------- 0.0/44.1 MB ? eta -:--:--\n",
      "   ---------------------------------------- 0.3/44.1 MB 8.9 MB/s eta 0:00:05\n",
      "    --------------------------------------- 0.6/44.1 MB 7.0 MB/s eta 0:00:07\n",
      "    --------------------------------------- 0.7/44.1 MB 5.9 MB/s eta 0:00:08\n",
      "    --------------------------------------- 1.1/44.1 MB 6.3 MB/s eta 0:00:07\n",
      "   - -------------------------------------- 1.5/44.1 MB 7.1 MB/s eta 0:00:06\n",
      "   - -------------------------------------- 1.8/44.1 MB 6.6 MB/s eta 0:00:07\n",
      "   -- ------------------------------------- 2.3/44.1 MB 7.2 MB/s eta 0:00:06\n",
      "   -- ------------------------------------- 2.6/44.1 MB 7.3 MB/s eta 0:00:06\n",
      "   -- ------------------------------------- 3.1/44.1 MB 7.5 MB/s eta 0:00:06\n",
      "   --- ------------------------------------ 3.5/44.1 MB 7.7 MB/s eta 0:00:06\n",
      "   --- ------------------------------------ 3.9/44.1 MB 7.8 MB/s eta 0:00:06\n",
      "   --- ------------------------------------ 4.3/44.1 MB 7.8 MB/s eta 0:00:06\n",
      "   ---- ----------------------------------- 4.6/44.1 MB 7.7 MB/s eta 0:00:06\n",
      "   ---- ----------------------------------- 5.0/44.1 MB 7.7 MB/s eta 0:00:06\n",
      "   ---- ----------------------------------- 5.2/44.1 MB 7.7 MB/s eta 0:00:06\n",
      "   ---- ----------------------------------- 5.3/44.1 MB 7.3 MB/s eta 0:00:06\n",
      "   ----- ---------------------------------- 5.5/44.1 MB 7.1 MB/s eta 0:00:06\n",
      "   ----- ---------------------------------- 6.0/44.1 MB 7.2 MB/s eta 0:00:06\n",
      "   ----- ---------------------------------- 6.2/44.1 MB 7.1 MB/s eta 0:00:06\n",
      "   ------ --------------------------------- 6.7/44.1 MB 7.3 MB/s eta 0:00:06\n",
      "   ------ --------------------------------- 7.2/44.1 MB 7.4 MB/s eta 0:00:05\n",
      "   ------ --------------------------------- 7.2/44.1 MB 7.5 MB/s eta 0:00:05\n",
      "   ------ --------------------------------- 7.5/44.1 MB 7.0 MB/s eta 0:00:06\n",
      "   ------- -------------------------------- 7.8/44.1 MB 7.0 MB/s eta 0:00:06\n",
      "   ------- -------------------------------- 8.3/44.1 MB 7.1 MB/s eta 0:00:06\n",
      "   ------- -------------------------------- 8.5/44.1 MB 7.1 MB/s eta 0:00:05\n",
      "   -------- ------------------------------- 8.9/44.1 MB 7.2 MB/s eta 0:00:05\n",
      "   -------- ------------------------------- 9.2/44.1 MB 7.2 MB/s eta 0:00:05\n",
      "   -------- ------------------------------- 9.2/44.1 MB 6.9 MB/s eta 0:00:06\n",
      "   -------- ------------------------------- 9.4/44.1 MB 6.9 MB/s eta 0:00:06\n",
      "   -------- ------------------------------- 9.9/44.1 MB 6.9 MB/s eta 0:00:05\n",
      "   --------- ------------------------------ 10.2/44.1 MB 6.9 MB/s eta 0:00:05\n",
      "   --------- ------------------------------ 10.6/44.1 MB 6.9 MB/s eta 0:00:05\n",
      "   --------- ------------------------------ 11.0/44.1 MB 7.1 MB/s eta 0:00:05\n",
      "   ---------- ----------------------------- 11.1/44.1 MB 7.0 MB/s eta 0:00:05\n",
      "   ---------- ----------------------------- 11.4/44.1 MB 6.9 MB/s eta 0:00:05\n",
      "   ---------- ----------------------------- 11.7/44.1 MB 6.7 MB/s eta 0:00:05\n",
      "   ---------- ----------------------------- 12.0/44.1 MB 6.9 MB/s eta 0:00:05\n",
      "   ----------- ---------------------------- 12.4/44.1 MB 6.8 MB/s eta 0:00:05\n",
      "   ----------- ---------------------------- 12.8/44.1 MB 6.8 MB/s eta 0:00:05\n",
      "   ----------- ---------------------------- 13.2/44.1 MB 6.8 MB/s eta 0:00:05\n",
      "   ------------ --------------------------- 13.5/44.1 MB 6.7 MB/s eta 0:00:05\n",
      "   ------------ --------------------------- 13.8/44.1 MB 6.7 MB/s eta 0:00:05\n",
      "   ------------ --------------------------- 14.2/44.1 MB 6.7 MB/s eta 0:00:05\n",
      "   ------------- -------------------------- 14.5/44.1 MB 6.7 MB/s eta 0:00:05\n",
      "   ------------- -------------------------- 14.8/44.1 MB 6.7 MB/s eta 0:00:05\n",
      "   ------------- -------------------------- 15.0/44.1 MB 6.5 MB/s eta 0:00:05\n",
      "   ------------- -------------------------- 15.2/44.1 MB 6.5 MB/s eta 0:00:05\n",
      "   -------------- ------------------------- 15.5/44.1 MB 6.6 MB/s eta 0:00:05\n",
      "   -------------- ------------------------- 15.8/44.1 MB 6.7 MB/s eta 0:00:05\n",
      "   -------------- ------------------------- 16.2/44.1 MB 6.5 MB/s eta 0:00:05\n",
      "   -------------- ------------------------- 16.5/44.1 MB 6.6 MB/s eta 0:00:05\n",
      "   --------------- ------------------------ 16.7/44.1 MB 6.5 MB/s eta 0:00:05\n",
      "   --------------- ------------------------ 17.0/44.1 MB 6.4 MB/s eta 0:00:05\n",
      "   --------------- ------------------------ 17.3/44.1 MB 6.4 MB/s eta 0:00:05\n",
      "   --------------- ------------------------ 17.6/44.1 MB 6.6 MB/s eta 0:00:05\n",
      "   ---------------- ----------------------- 18.0/44.1 MB 6.5 MB/s eta 0:00:04\n",
      "   ---------------- ----------------------- 18.2/44.1 MB 6.5 MB/s eta 0:00:04\n",
      "   ---------------- ----------------------- 18.6/44.1 MB 6.5 MB/s eta 0:00:04\n",
      "   ----------------- ---------------------- 18.8/44.1 MB 6.4 MB/s eta 0:00:04\n",
      "   ----------------- ---------------------- 19.0/44.1 MB 6.3 MB/s eta 0:00:04\n",
      "   ----------------- ---------------------- 19.2/44.1 MB 6.3 MB/s eta 0:00:04\n",
      "   ----------------- ---------------------- 19.5/44.1 MB 6.4 MB/s eta 0:00:04\n",
      "   ----------------- ---------------------- 19.5/44.1 MB 6.4 MB/s eta 0:00:04\n",
      "   ----------------- ---------------------- 19.5/44.1 MB 6.4 MB/s eta 0:00:04\n",
      "   ----------------- ---------------------- 19.6/44.1 MB 6.0 MB/s eta 0:00:05\n",
      "   ------------------ --------------------- 19.9/44.1 MB 6.0 MB/s eta 0:00:05\n",
      "   ------------------ --------------------- 20.2/44.1 MB 6.0 MB/s eta 0:00:05\n",
      "   ------------------ --------------------- 20.5/44.1 MB 6.0 MB/s eta 0:00:04\n",
      "   ------------------ --------------------- 20.8/44.1 MB 5.9 MB/s eta 0:00:04\n",
      "   ------------------- -------------------- 21.2/44.1 MB 5.9 MB/s eta 0:00:04\n",
      "   ------------------- -------------------- 21.5/44.1 MB 6.0 MB/s eta 0:00:04\n",
      "   ------------------- -------------------- 21.8/44.1 MB 6.0 MB/s eta 0:00:04\n",
      "   ------------------- -------------------- 22.0/44.1 MB 6.0 MB/s eta 0:00:04\n",
      "   -------------------- ------------------- 22.2/44.1 MB 5.9 MB/s eta 0:00:04\n",
      "   -------------------- ------------------- 22.6/44.1 MB 5.8 MB/s eta 0:00:04\n",
      "   -------------------- ------------------- 23.0/44.1 MB 5.9 MB/s eta 0:00:04\n",
      "   --------------------- ------------------ 23.2/44.1 MB 5.8 MB/s eta 0:00:04\n",
      "   --------------------- ------------------ 23.6/44.1 MB 5.8 MB/s eta 0:00:04\n",
      "   --------------------- ------------------ 23.9/44.1 MB 5.8 MB/s eta 0:00:04\n",
      "   --------------------- ------------------ 24.1/44.1 MB 5.8 MB/s eta 0:00:04\n",
      "   ---------------------- ----------------- 24.4/44.1 MB 5.7 MB/s eta 0:00:04\n",
      "   ---------------------- ----------------- 24.6/44.1 MB 5.6 MB/s eta 0:00:04\n",
      "   ---------------------- ----------------- 24.9/44.1 MB 5.7 MB/s eta 0:00:04\n",
      "   ---------------------- ----------------- 25.1/44.1 MB 5.6 MB/s eta 0:00:04\n",
      "   ----------------------- ---------------- 25.4/44.1 MB 5.7 MB/s eta 0:00:04\n",
      "   ----------------------- ---------------- 25.6/44.1 MB 5.7 MB/s eta 0:00:04\n",
      "   ----------------------- ---------------- 25.9/44.1 MB 5.7 MB/s eta 0:00:04\n",
      "   ----------------------- ---------------- 26.2/44.1 MB 5.7 MB/s eta 0:00:04\n",
      "   ----------------------- ---------------- 26.4/44.1 MB 5.6 MB/s eta 0:00:04\n",
      "   ------------------------ --------------- 26.8/44.1 MB 5.7 MB/s eta 0:00:04\n",
      "   ------------------------ --------------- 27.1/44.1 MB 5.7 MB/s eta 0:00:03\n",
      "   ------------------------ --------------- 27.5/44.1 MB 5.7 MB/s eta 0:00:03\n",
      "   ------------------------- -------------- 27.6/44.1 MB 5.7 MB/s eta 0:00:03\n",
      "   ------------------------- -------------- 27.9/44.1 MB 5.7 MB/s eta 0:00:03\n",
      "   ------------------------- -------------- 28.2/44.1 MB 5.6 MB/s eta 0:00:03\n",
      "   ------------------------- -------------- 28.6/44.1 MB 5.7 MB/s eta 0:00:03\n",
      "   -------------------------- ------------- 28.8/44.1 MB 5.6 MB/s eta 0:00:03\n",
      "   -------------------------- ------------- 29.2/44.1 MB 5.8 MB/s eta 0:00:03\n",
      "   -------------------------- ------------- 29.5/44.1 MB 5.8 MB/s eta 0:00:03\n",
      "   --------------------------- ------------ 29.8/44.1 MB 6.3 MB/s eta 0:00:03\n",
      "   --------------------------- ------------ 30.0/44.1 MB 6.3 MB/s eta 0:00:03\n",
      "   --------------------------- ------------ 30.4/44.1 MB 6.2 MB/s eta 0:00:03\n",
      "   --------------------------- ------------ 30.8/44.1 MB 6.4 MB/s eta 0:00:03\n",
      "   ---------------------------- ----------- 31.0/44.1 MB 6.3 MB/s eta 0:00:03\n",
      "   ---------------------------- ----------- 31.3/44.1 MB 6.2 MB/s eta 0:00:03\n",
      "   ---------------------------- ----------- 31.5/44.1 MB 6.3 MB/s eta 0:00:02\n",
      "   ----------------------------- ---------- 32.0/44.1 MB 6.3 MB/s eta 0:00:02\n",
      "   ----------------------------- ---------- 32.2/44.1 MB 6.4 MB/s eta 0:00:02\n",
      "   ----------------------------- ---------- 32.6/44.1 MB 6.4 MB/s eta 0:00:02\n",
      "   ----------------------------- ---------- 32.9/44.1 MB 6.4 MB/s eta 0:00:02\n",
      "   ------------------------------ --------- 33.3/44.1 MB 6.3 MB/s eta 0:00:02\n",
      "   ------------------------------ --------- 33.6/44.1 MB 6.4 MB/s eta 0:00:02\n",
      "   ------------------------------ --------- 33.8/44.1 MB 6.3 MB/s eta 0:00:02\n",
      "   ------------------------------ --------- 34.1/44.1 MB 6.3 MB/s eta 0:00:02\n",
      "   ------------------------------- -------- 34.4/44.1 MB 6.2 MB/s eta 0:00:02\n",
      "   ------------------------------- -------- 34.7/44.1 MB 6.4 MB/s eta 0:00:02\n",
      "   ------------------------------- -------- 35.0/44.1 MB 6.4 MB/s eta 0:00:02\n",
      "   -------------------------------- ------- 35.3/44.1 MB 6.3 MB/s eta 0:00:02\n",
      "   -------------------------------- ------- 35.4/44.1 MB 6.3 MB/s eta 0:00:02\n",
      "   -------------------------------- ------- 35.6/44.1 MB 6.2 MB/s eta 0:00:02\n",
      "   -------------------------------- ------- 35.7/44.1 MB 6.1 MB/s eta 0:00:02\n",
      "   -------------------------------- ------- 35.9/44.1 MB 6.1 MB/s eta 0:00:02\n",
      "   -------------------------------- ------- 36.0/44.1 MB 6.0 MB/s eta 0:00:02\n",
      "   -------------------------------- ------- 36.3/44.1 MB 6.0 MB/s eta 0:00:02\n",
      "   -------------------------------- ------- 36.3/44.1 MB 5.7 MB/s eta 0:00:02\n",
      "   --------------------------------- ------ 36.4/44.1 MB 5.7 MB/s eta 0:00:02\n",
      "   --------------------------------- ------ 36.7/44.1 MB 5.7 MB/s eta 0:00:02\n",
      "   --------------------------------- ------ 37.0/44.1 MB 5.7 MB/s eta 0:00:02\n",
      "   --------------------------------- ------ 37.3/44.1 MB 5.7 MB/s eta 0:00:02\n",
      "   ---------------------------------- ----- 37.6/44.1 MB 5.7 MB/s eta 0:00:02\n",
      "   ---------------------------------- ----- 37.9/44.1 MB 5.7 MB/s eta 0:00:02\n",
      "   ---------------------------------- ----- 38.1/44.1 MB 5.6 MB/s eta 0:00:02\n",
      "   ---------------------------------- ----- 38.4/44.1 MB 5.7 MB/s eta 0:00:02\n",
      "   ----------------------------------- ---- 38.6/44.1 MB 5.6 MB/s eta 0:00:01\n",
      "   ----------------------------------- ---- 39.0/44.1 MB 5.7 MB/s eta 0:00:01\n",
      "   ----------------------------------- ---- 39.4/44.1 MB 5.7 MB/s eta 0:00:01\n",
      "   ------------------------------------ --- 39.7/44.1 MB 5.6 MB/s eta 0:00:01\n",
      "   ------------------------------------ --- 39.9/44.1 MB 5.7 MB/s eta 0:00:01\n",
      "   ------------------------------------ --- 40.2/44.1 MB 5.6 MB/s eta 0:00:01\n",
      "   ------------------------------------ --- 40.4/44.1 MB 5.6 MB/s eta 0:00:01\n",
      "   ------------------------------------ --- 40.7/44.1 MB 5.5 MB/s eta 0:00:01\n",
      "   ------------------------------------- -- 41.0/44.1 MB 5.5 MB/s eta 0:00:01\n",
      "   ------------------------------------- -- 41.2/44.1 MB 5.5 MB/s eta 0:00:01\n",
      "   ------------------------------------- -- 41.5/44.1 MB 5.5 MB/s eta 0:00:01\n",
      "   ------------------------------------- -- 41.7/44.1 MB 5.5 MB/s eta 0:00:01\n",
      "   -------------------------------------- - 42.0/44.1 MB 5.5 MB/s eta 0:00:01\n",
      "   -------------------------------------- - 42.2/44.1 MB 5.4 MB/s eta 0:00:01\n",
      "   -------------------------------------- - 42.5/44.1 MB 5.4 MB/s eta 0:00:01\n",
      "   -------------------------------------- - 42.8/44.1 MB 5.4 MB/s eta 0:00:01\n",
      "   ---------------------------------------  43.1/44.1 MB 5.4 MB/s eta 0:00:01\n",
      "   ---------------------------------------  43.4/44.1 MB 5.4 MB/s eta 0:00:01\n",
      "   ---------------------------------------  43.6/44.1 MB 5.4 MB/s eta 0:00:01\n",
      "   ---------------------------------------  44.0/44.1 MB 5.4 MB/s eta 0:00:01\n",
      "   ---------------------------------------  44.1/44.1 MB 5.4 MB/s eta 0:00:01\n",
      "   ---------------------------------------  44.1/44.1 MB 5.4 MB/s eta 0:00:01\n",
      "   ---------------------------------------  44.1/44.1 MB 5.4 MB/s eta 0:00:01\n",
      "   ---------------------------------------  44.1/44.1 MB 5.4 MB/s eta 0:00:01\n",
      "   ---------------------------------------  44.1/44.1 MB 5.4 MB/s eta 0:00:01\n",
      "   ---------------------------------------- 44.1/44.1 MB 4.8 MB/s eta 0:00:00\n",
      "Downloading threadpoolctl-3.2.0-py3-none-any.whl (15 kB)\n",
      "Installing collected packages: threadpoolctl, scipy, joblib, scikit-learn\n",
      "Successfully installed joblib-1.3.2 scikit-learn-1.3.2 scipy-1.11.4 threadpoolctl-3.2.0\n"
     ]
    }
   ],
   "source": [
    "pip install scikit-learn"
   ]
  },
  {
   "cell_type": "code",
   "execution_count": 1,
   "metadata": {
    "cell_id": "00000-dd8388cc-7c25-45a6-8492-0cb9cad04e24",
    "deepnote_cell_type": "code",
    "deepnote_to_be_reexecuted": false,
    "execution_millis": 2532,
    "execution_start": 1622484982440,
    "source_hash": "f9ac71d",
    "tags": []
   },
   "outputs": [],
   "source": [
    "# Medir el tiempo de ejecucion de los modelos\n",
    "import timeit\n",
    "import numpy as np\n",
    "import pandas as pd \n",
    "import matplotlib.pyplot as plt\n",
    "# Para descargar dataset y realizar una regresion lineal\n",
    "from sklearn import datasets, linear_model\n",
    "\n",
    "#Se carga un dataset gracias a la libreria sklearn\n",
    "X, y = datasets.load_diabetes(return_X_y=True)\n",
    "raw = X[:, None, 2]"
   ]
  },
  {
   "cell_type": "markdown",
   "metadata": {
    "cell_id": "00001-de96f906-18e2-433d-98c3-2a6675f1ddf9",
    "deepnote_cell_type": "markdown",
    "tags": []
   },
   "source": [
    "Detalles del dataset: https://scikit-learn.org/stable/modules/generated/sklearn.datasets.load_diabetes.html"
   ]
  },
  {
   "cell_type": "code",
   "execution_count": 9,
   "metadata": {
    "cell_id": "00001-7b52d2b4-5e9d-4d35-a045-d3697bd31a44",
    "deepnote_cell_type": "code",
    "deepnote_to_be_reexecuted": false,
    "execution_millis": 595,
    "execution_start": 1622484985003,
    "output_cleared": false,
    "source_hash": "4c236db0",
    "tags": []
   },
   "outputs": [
    {
     "data": {
      "text/plain": [
       "(array([32., 66., 98., 90., 61., 53., 23., 12.,  5.,  2.]),\n",
       " array([-1.89792941, -1.34956464, -0.80119987, -0.2528351 ,  0.29552967,\n",
       "         0.84389444,  1.39225921,  1.94062398,  2.48898875,  3.03735352,\n",
       "         3.58571828]),\n",
       " <BarContainer object of 10 artists>)"
      ]
     },
     "execution_count": 9,
     "metadata": {},
     "output_type": "execute_result"
    },
    {
     "data": {
      "image/png": "[encoded data removed]",
      "text/plain": [
       "<Figure size 640x480 with 3 Axes>"
      ]
     },
     "metadata": {},
     "output_type": "display_data"
    }
   ],
   "source": [
    "# Reglas de escalamiento\n",
    "# escalamiento max-min\n",
    "max_raw = max(raw)\n",
    "min_raw = min(raw)\n",
    "# Formula de escalamiento max-min\n",
    "scaled = (2*raw - max_raw -min_raw)/(max_raw - min_raw)\n",
    "\n",
    "# normalización Z-score\n",
    "\n",
    "avg = np.average(raw)\n",
    "std = np.std(raw)\n",
    "z_scaled = (raw - avg)/std\n",
    "\n",
    "# sharex permite respetar la escala del eje x\n",
    "fig, axs = plt.subplots(3, 1, sharex=True, tight_layout=True)\n",
    "\n",
    "axs[0].hist(raw)\n",
    "axs[1].hist(scaled)\n",
    "axs[2].hist(z_scaled)"
   ]
  },
  {
   "cell_type": "code",
   "execution_count": 7,
   "metadata": {
    "cell_id": "00002-a231b2cb-c0fa-43ef-a3e5-283ee2343e48",
    "deepnote_cell_type": "code",
    "deepnote_to_be_reexecuted": false,
    "execution_millis": 1,
    "execution_start": 1622485022773,
    "source_hash": "8d13a080",
    "tags": []
   },
   "outputs": [],
   "source": [
    "# modelos para entrenamiento, para comparar los tiempos de ejecucion con los datos originales y dos metodos de escalados\n",
    "# En si son funciones que realizan regresiones lineales\n",
    "def train_raw():\n",
    "    linear_model.LinearRegression().fit(raw, y)\n",
    "\n",
    "def train_scaled():\n",
    "    linear_model.LinearRegression().fit(scaled, y)\n",
    "\n",
    "def train_z_scaled():\n",
    "    linear_model.LinearRegression().fit(z_scaled, y)"
   ]
  },
  {
   "cell_type": "code",
   "execution_count": 10,
   "metadata": {
    "cell_id": "00004-95df3b96-b7bf-4957-9030-aee0179e31dd",
    "deepnote_cell_type": "code",
    "deepnote_to_be_reexecuted": false,
    "execution_millis": 1,
    "execution_start": 1622485024560,
    "output_cleared": false,
    "source_hash": "6dc73673",
    "tags": []
   },
   "outputs": [
    {
     "name": "stdout",
     "output_type": "stream",
     "text": [
      "trainning time for raw data : 0.11139540000294801 \n",
      "trainning time for scaled data : 0.061625000002095476\n",
      "trainning time for z_scaled data : 0.048780299999634735\n"
     ]
    }
   ],
   "source": [
    "#El numero 100 hace referencia a que se ejecuta 100 veces\n",
    "raw_time = timeit.timeit(train_raw, number = 100)\n",
    "scaled_time = timeit.timeit(train_scaled, number = 100)\n",
    "z_scaled_time = timeit.timeit(train_z_scaled, number = 100)\n",
    "print('trainning time for raw data : {} '.format(raw_time))\n",
    "print('trainning time for scaled data : {}'.format(scaled_time))\n",
    "print('trainning time for z_scaled data : {}'.format(z_scaled_time))"
   ]
  },
  {
   "cell_type": "markdown",
   "metadata": {
    "cell_id": "00006-39c52400-be54-4471-a6c6-e0bebbd7a48f",
    "deepnote_cell_type": "markdown",
    "tags": []
   },
   "source": [
    "* max-min scaling: mejor para datos uniformemente distribuidos\n",
    "* z-score scaling: mejor para datos distribuidos \"normalmente\" (forma de campana de gauss)"
   ]
  },
  {
   "cell_type": "markdown",
   "metadata": {
    "cell_id": "00006-3645f92d-c7c3-4f2c-8ff6-19b158f1e589",
    "deepnote_cell_type": "markdown",
    "tags": []
   },
   "source": [
    "Utilidades de Scikit Learn : https://scikit-learn.org/stable/modules/preprocessing.html"
   ]
  },
  {
   "cell_type": "markdown",
   "metadata": {
    "cell_id": "00009-8f892a43-fc2d-4765-9df6-220b21698953",
    "deepnote_cell_type": "markdown",
    "tags": []
   },
   "source": [
    "### Transformaciones no lineales"
   ]
  },
  {
   "cell_type": "code",
   "execution_count": null,
   "metadata": {
    "cell_id": "00010-c3f4aea0-11c5-41b0-9d6d-db691ef3fe1c",
    "deepnote_cell_type": "code",
    "deepnote_to_be_reexecuted": false,
    "execution_millis": 139,
    "execution_start": 1622485028352,
    "source_hash": "f2d578bb",
    "tags": []
   },
   "outputs": [],
   "source": [
    "df = pd.read_csv('cars.csv')"
   ]
  },
  {
   "cell_type": "code",
   "execution_count": null,
   "metadata": {
    "cell_id": "00011-2eb046f6-9ec1-4791-a79a-c7b651c4d276",
    "deepnote_cell_type": "code",
    "deepnote_to_be_reexecuted": false,
    "execution_millis": 263,
    "execution_start": 1622485028869,
    "output_cleared": false,
    "source_hash": "1d9343bd",
    "tags": []
   },
   "outputs": [
    {
     "data": {
      "text/plain": [
       "<AxesSubplot:>"
      ]
     },
     "execution_count": 8,
     "metadata": {},
     "output_type": "execute_result"
    },
    {
     "data": {
      "image/png": "[encoded data removed]",
      "text/plain": [
       "<Figure size 432x288 with 1 Axes>"
      ]
     },
     "metadata": {
      "image/png": {
       "height": 248,
       "width": 388
      },
      "needs_background": "light"
     },
     "output_type": "display_data"
    }
   ],
   "source": [
    "df.price_usd.hist()"
   ]
  },
  {
   "cell_type": "markdown",
   "metadata": {
    "cell_id": "00012-e7d44a5d-9df4-41fb-a0d9-d1467e02f7c5",
    "deepnote_cell_type": "markdown",
    "tags": []
   },
   "source": [
    "Transformación con $$tanh(x)$$"
   ]
  },
  {
   "cell_type": "code",
   "execution_count": null,
   "metadata": {
    "cell_id": "00012-4d7c01b7-67e1-4528-83b8-53f72c22bd71",
    "deepnote_cell_type": "code",
    "deepnote_to_be_reexecuted": false,
    "execution_millis": 277,
    "execution_start": 1622485031705,
    "output_cleared": false,
    "source_hash": "45297aa3",
    "tags": []
   },
   "outputs": [
    {
     "data": {
      "text/plain": [
       "<AxesSubplot:>"
      ]
     },
     "execution_count": 9,
     "metadata": {},
     "output_type": "execute_result"
    },
    {
     "data": {
      "image/png": "[encoded data removed]",
      "text/plain": [
       "<Figure size 432x288 with 1 Axes>"
      ]
     },
     "metadata": {
      "image/png": {
       "height": 248,
       "width": 381
      },
      "needs_background": "light"
     },
     "output_type": "display_data"
    }
   ],
   "source": [
    "#Tangente hiperbolica\n",
    "# el p sirve para ir calibrando la transformacion\n",
    "p = 10000\n",
    "df.price_usd.apply(lambda x: np.tanh(x/p)).hist()"
   ]
  },
  {
   "cell_type": "markdown",
   "metadata": {
    "cell_id": "00014-043435bf-21c9-4ffc-9036-2a1dd7b298ee",
    "deepnote_cell_type": "markdown",
    "tags": []
   },
   "source": [
    "* mapear datos a una distribucion gaussiana: https://scikit-learn.org/stable/auto_examples/preprocessing/plot_map_data_to_normal.html#sphx-glr-auto-examples-preprocessing-plot-map-data-to-normal-py"
   ]
  },
  {
   "cell_type": "markdown",
   "metadata": {
    "created_in_deepnote_cell": true,
    "deepnote_cell_type": "markdown",
    "tags": []
   },
   "source": [
    "<a style='text-decoration:none;line-height:16px;display:flex;color:#5B5B62;padding:10px;justify-content:end;' href='https://deepnote.com?utm_source=created-in-deepnote-cell&projectId=3f569948-e9a8-454f-8f4d-a27aa1610a87' target=\"_blank\">\n",
    "<img alt='Created in deepnote.com' style='display:inline;max-height:16px;margin:0px;margin-right:7.5px;' src='data:image/svg+xml;base64,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' > </img>\n",
    "Created in <span style='font-weight:600;margin-left:4px;'>Deepnote</span></a>"
   ]
  }
 ],
 "metadata": {
  "deepnote": {
   "is_reactive": false
  },
  "deepnote_execution_queue": [],
  "deepnote_notebook_id": "dc0e8e2f-767c-4d0a-bdda-fe85e29fb72b",
  "kernelspec": {
   "display_name": "Python 3",
   "language": "python",
   "name": "python3"
  },
  "language_info": {
   "codemirror_mode": {
    "name": "ipython",
    "version": 3
   },
   "file_extension": ".py",
   "mimetype": "text/x-python",
   "name": "python",
   "nbconvert_exporter": "python",
   "pygments_lexer": "ipython3",
   "version": "3.11.6"
  },
  "orig_nbformat": 2
 },
 "nbformat": 4,
 "nbformat_minor": 2
}
